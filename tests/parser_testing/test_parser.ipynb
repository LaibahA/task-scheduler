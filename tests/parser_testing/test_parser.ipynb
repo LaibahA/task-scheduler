{
 "cells": [
  {
   "metadata": {},
   "cell_type": "markdown",
   "source": [
    "# CSV Parser Testing and Validation\n",
    "---\n",
    "This notebook tests the CSV parser on valid inputs, both weighted and unweighted, and on invalid inputs, with various issues such as inconsistent rows and incorrectly formated row length.\n",
    "\n",
    "This following cell imports the necessary modules as well as sets up the 'src' path so we can access modules within the package as necessary.\n",
    "\n",
    "## Testing parsers edge cases and bug handling capabilities\n"
   ],
   "id": "888d4580de251250"
  },
  {
   "metadata": {
    "ExecuteTime": {
     "end_time": "2025-07-09T04:24:50.062536Z",
     "start_time": "2025-07-09T04:24:50.051723Z"
    }
   },
   "cell_type": "code",
   "source": [
    "import sys\n",
    "import os\n",
    "sys.path.append(os.path.abspath(\"../src\"))\n",
    "from src import csv_parser"
   ],
   "id": "70c26e6cb8a21fc0",
   "outputs": [],
   "execution_count": 1
  },
  {
   "metadata": {},
   "cell_type": "markdown",
   "source": "The following cell runs a test file with comments scattered throughout. The parser should silently skip the comments, and just output the intervals and whether or not it is a weighted data set.",
   "id": "4669627bc18c5f8f"
  },
  {
   "metadata": {
    "ExecuteTime": {
     "end_time": "2025-07-09T04:24:50.112426Z",
     "start_time": "2025-07-09T04:24:50.107065Z"
    }
   },
   "cell_type": "code",
   "source": [
    "filename = \"testFile_bug_comments.csv\"\n",
    "intervals, isWeighted = csv_parser.parse_csv(filename)\n",
    "print(f\"Intervals: {intervals}\")\n",
    "print(f\"Is weighted: {isWeighted}\")"
   ],
   "id": "13544e57b89c1df9",
   "outputs": [
    {
     "name": "stdout",
     "output_type": "stream",
     "text": [
      "Intervals: [(1, 2), (2, 3), (3, 4)]\n",
      "Is weighted: False\n"
     ]
    }
   ],
   "execution_count": 2
  },
  {
   "metadata": {},
   "cell_type": "markdown",
   "source": "The following cell runs a test file with empty rows scattered throughout. The parser should silently skip the empty rows, and just output the intervals and whether or not it is a weighted data set.",
   "id": "f03aa914d10a5eab"
  },
  {
   "metadata": {
    "ExecuteTime": {
     "end_time": "2025-07-09T04:24:50.384536Z",
     "start_time": "2025-07-09T04:24:50.381097Z"
    }
   },
   "cell_type": "code",
   "source": [
    "filename = \"testFile_bug_emptyRows.csv\"\n",
    "intervals, isWeighted = csv_parser.parse_csv(filename)\n",
    "print(f\"Intervals: {intervals}\")\n",
    "print(f\"Is weighted: {isWeighted}\")"
   ],
   "id": "4496485712be86ec",
   "outputs": [
    {
     "name": "stdout",
     "output_type": "stream",
     "text": [
      "Intervals: [(1, 2), (2, 3), (3, 4)]\n",
      "Is weighted: False\n"
     ]
    }
   ],
   "execution_count": 3
  },
  {
   "metadata": {},
   "cell_type": "markdown",
   "source": "The following cell runs a test file with inconsistent data. The CSV file should either contain only start and end times for EACH interval, or all three of start, end, and weight for EACH interval. The parser should raise a ValueError and print \"Inconsistency Detected: All rows must be either 2 (unweighted) or 3 (weighted)\".\n",
   "id": "577f57c300446e2e"
  },
  {
   "metadata": {
    "ExecuteTime": {
     "end_time": "2025-07-09T04:24:50.408290Z",
     "start_time": "2025-07-09T04:24:50.401100Z"
    }
   },
   "cell_type": "code",
   "source": [
    "filename = \"testFile_bug_inconsistentRows.csv\"\n",
    "try:\n",
    "    intervals, isWeighted = csv_parser.parse_csv(filename)\n",
    "    print(\"Intervals:\", intervals)\n",
    "    print(\"Is weighted:\", isWeighted)\n",
    "except ValueError as error:\n",
    "    print(\"Caught ValueError:\\n\", error)"
   ],
   "id": "bb6637d18cb91cac",
   "outputs": [
    {
     "name": "stdout",
     "output_type": "stream",
     "text": [
      "Caught ValueError:\n",
      " Inconsistency Detected: All rows must be either 2 (unweighted) or 3 (weighted).\n"
     ]
    }
   ],
   "execution_count": 4
  },
  {
   "metadata": {},
   "cell_type": "markdown",
   "source": "This following cell runs a test file with some rows that have the wrong amount of data. These rows will be skipped with a warning, and the interval and whether or not it is a weighted set should be outputted. Rows should either have 2 columns of data (start and end times) or 3 columns (start, end, and weight).",
   "id": "46a64b0f68735b17"
  },
  {
   "metadata": {
    "ExecuteTime": {
     "end_time": "2025-07-09T04:24:50.430752Z",
     "start_time": "2025-07-09T04:24:50.425693Z"
    }
   },
   "cell_type": "code",
   "source": [
    "filename = \"testFile_bug_rowLength.csv\"\n",
    "intervals, isWeighted = csv_parser.parse_csv(filename)\n",
    "print(f\"Intervals: {intervals}\")\n",
    "print(f\"Is weighted: {isWeighted}\")"
   ],
   "id": "71e7737cd69e59b3",
   "outputs": [
    {
     "name": "stdout",
     "output_type": "stream",
     "text": [
      "Warning: Row 4 has 4 columns (expected 2 or 3). Skipping this row.\n",
      "Warning: Row 6 has 1 columns (expected 2 or 3). Skipping this row.\n",
      "Warning: Row 7 has 9 columns (expected 2 or 3). Skipping this row.\n",
      "Intervals: [(1, 2), (3, 4), (5, 6)]\n",
      "Is weighted: False\n"
     ]
    }
   ],
   "execution_count": 5
  },
  {
   "metadata": {},
   "cell_type": "markdown",
   "source": [
    "## Demonstrating weighted and unweighted data outputs\n",
    "\n",
    "The following cell runs two test files with weighted and unweighted data inputs. The output should show the intervals, including weight as the third value for the weighted data, and accurately tell if the data is weighted or not."
   ],
   "id": "a8b5558ec21b8ae4"
  },
  {
   "metadata": {
    "ExecuteTime": {
     "end_time": "2025-07-09T04:25:11.142850Z",
     "start_time": "2025-07-09T04:25:11.137114Z"
    }
   },
   "cell_type": "code",
   "source": [
    "filename = \"testFile_weighted.csv\"\n",
    "intervals, isWeighted = csv_parser.parse_csv(filename)\n",
    "print(f\"Intervals: {intervals}\")\n",
    "print(f\"Is weighted: {isWeighted}\")\n",
    "\n",
    "filename = \"testFile_unweighted.csv\"\n",
    "intervals, isWeighted = csv_parser.parse_csv(filename)\n",
    "print(f\"Intervals: {intervals}\")\n",
    "print(f\"Is weighted: {isWeighted}\")"
   ],
   "id": "bdd185ad1058b60",
   "outputs": [
    {
     "name": "stdout",
     "output_type": "stream",
     "text": [
      "Intervals: [(1, 2, 1), (2, 3, 2), (3, 4, 3), (5, 6, 4)]\n",
      "Is weighted: True\n",
      "Intervals: [(1, 2), (3, 4), (5, 6), (7, 8)]\n",
      "Is weighted: False\n"
     ]
    }
   ],
   "execution_count": 7
  }
 ],
 "metadata": {
  "kernelspec": {
   "display_name": "Python 3",
   "language": "python",
   "name": "python3"
  },
  "language_info": {
   "codemirror_mode": {
    "name": "ipython",
    "version": 2
   },
   "file_extension": ".py",
   "mimetype": "text/x-python",
   "name": "python",
   "nbconvert_exporter": "python",
   "pygments_lexer": "ipython2",
   "version": "2.7.6"
  }
 },
 "nbformat": 4,
 "nbformat_minor": 5
}
